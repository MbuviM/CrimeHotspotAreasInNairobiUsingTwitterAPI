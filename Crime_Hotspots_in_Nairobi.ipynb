{
  "nbformat": 4,
  "nbformat_minor": 0,
  "metadata": {
    "colab": {
      "provenance": [],
      "authorship_tag": "ABX9TyNKC1j4fpw4uczMBC4dtN19",
      "include_colab_link": true
    },
    "kernelspec": {
      "name": "python3",
      "display_name": "Python 3"
    },
    "language_info": {
      "name": "python"
    }
  },
  "cells": [
    {
      "cell_type": "markdown",
      "metadata": {
        "id": "view-in-github",
        "colab_type": "text"
      },
      "source": [
        "<a href=\"https://colab.research.google.com/github/MbuviM/CrimeHotspotAreasInNairobiUsingTwitterAPI/blob/master/Crime_Hotspots_in_Nairobi.ipynb\" target=\"_parent\"><img src=\"https://colab.research.google.com/assets/colab-badge.svg\" alt=\"Open In Colab\"/></a>"
      ]
    },
    {
      "cell_type": "code",
      "source": [
        "!pip install tweepy"
      ],
      "metadata": {
        "colab": {
          "base_uri": "https://localhost:8080/"
        },
        "id": "6ipBoWakBXYE",
        "outputId": "31ba94b7-51a3-4cb2-d23d-87a283ebbb0d"
      },
      "execution_count": null,
      "outputs": [
        {
          "output_type": "stream",
          "name": "stdout",
          "text": [
            "Looking in indexes: https://pypi.org/simple, https://us-python.pkg.dev/colab-wheels/public/simple/\n",
            "Requirement already satisfied: tweepy in /usr/local/lib/python3.8/dist-packages (3.10.0)\n",
            "Requirement already satisfied: requests[socks]>=2.11.1 in /usr/local/lib/python3.8/dist-packages (from tweepy) (2.25.1)\n",
            "Requirement already satisfied: six>=1.10.0 in /usr/local/lib/python3.8/dist-packages (from tweepy) (1.15.0)\n",
            "Requirement already satisfied: requests-oauthlib>=0.7.0 in /usr/local/lib/python3.8/dist-packages (from tweepy) (1.3.1)\n",
            "Requirement already satisfied: oauthlib>=3.0.0 in /usr/local/lib/python3.8/dist-packages (from requests-oauthlib>=0.7.0->tweepy) (3.2.2)\n",
            "Requirement already satisfied: chardet<5,>=3.0.2 in /usr/local/lib/python3.8/dist-packages (from requests[socks]>=2.11.1->tweepy) (4.0.0)\n",
            "Requirement already satisfied: idna<3,>=2.5 in /usr/local/lib/python3.8/dist-packages (from requests[socks]>=2.11.1->tweepy) (2.10)\n",
            "Requirement already satisfied: certifi>=2017.4.17 in /usr/local/lib/python3.8/dist-packages (from requests[socks]>=2.11.1->tweepy) (2022.12.7)\n",
            "Requirement already satisfied: urllib3<1.27,>=1.21.1 in /usr/local/lib/python3.8/dist-packages (from requests[socks]>=2.11.1->tweepy) (1.24.3)\n",
            "Requirement already satisfied: PySocks!=1.5.7,>=1.5.6 in /usr/local/lib/python3.8/dist-packages (from requests[socks]>=2.11.1->tweepy) (1.7.1)\n"
          ]
        }
      ]
    },
    {
      "cell_type": "code",
      "source": [
        "!pip install csv"
      ],
      "metadata": {
        "colab": {
          "base_uri": "https://localhost:8080/"
        },
        "id": "Y53aZm-GEHGE",
        "outputId": "bf9338d5-0f59-406c-f0f2-030b587dbf9a"
      },
      "execution_count": null,
      "outputs": [
        {
          "output_type": "stream",
          "name": "stdout",
          "text": [
            "Looking in indexes: https://pypi.org/simple, https://us-python.pkg.dev/colab-wheels/public/simple/\n",
            "\u001b[31mERROR: Could not find a version that satisfies the requirement csv (from versions: none)\u001b[0m\u001b[31m\n",
            "\u001b[0m\u001b[31mERROR: No matching distribution found for csv\u001b[0m\u001b[31m\n",
            "\u001b[0m"
          ]
        }
      ]
    },
    {
      "cell_type": "markdown",
      "source": [
        "# Import Libraries"
      ],
      "metadata": {
        "id": "OKHL1e3rCnn-"
      }
    },
    {
      "cell_type": "code",
      "execution_count": null,
      "metadata": {
        "id": "wyadvWfLBIVy"
      },
      "outputs": [],
      "source": [
        "import tweepy\n",
        "import csv # For storing the scraped tweets in a CSV file\n",
        "import pandas as pd"
      ]
    },
    {
      "cell_type": "markdown",
      "source": [
        "# Access the Needed APIs"
      ],
      "metadata": {
        "id": "zZlaSxkwCt0I"
      }
    },
    {
      "cell_type": "code",
      "source": [
        "API_Key = 'TNu4URTzZc6MsKAdnZlVujTsi'\n",
        "KeySecret = 'JYz2i2ZuOQSENsp7kdKg2M3z5EKCNue0528pEumy8IlqUXnKdm'\n",
        "Access_Token = '1295765346289360896-ANHfqtVeAzLqx1ar3xGqOHMOkWdVYQ'\n",
        "Access_Token_Secret = 'pGVKiwgVAWVjfa3ilVZc4B04WsSBfMucg7lq6Wdy89kEB'"
      ],
      "metadata": {
        "id": "Suh-EKh5ClVQ"
      },
      "execution_count": null,
      "outputs": []
    },
    {
      "cell_type": "code",
      "source": [
        "Auth = tweepy.OAuthHandler(API_Key, KeySecret)\n",
        "Auth.set_access_token(Access_Token, Access_Token_Secret)\n",
        "Api = tweepy.API(Auth)\n"
      ],
      "metadata": {
        "id": "w20_4Fn7FCHv"
      },
      "execution_count": null,
      "outputs": []
    },
    {
      "cell_type": "markdown",
      "source": [
        "# Request the Twitter API"
      ],
      "metadata": {
        "id": "8QFj6ZdaIMJa"
      }
    },
    {
      "cell_type": "code",
      "source": [
        "keywords = \"crime in Nairobi\"\n",
        "search_query = keywords + \" -filter:retweets AND -filter:replies\""
      ],
      "metadata": {
        "id": "k5ufIg4vILUs"
      },
      "execution_count": null,
      "outputs": []
    },
    {
      "cell_type": "code",
      "source": [
        "Crime_Hotspots = [] \n",
        "\n",
        "def get_tweets(search_query, limit):\n",
        "    tweets = tweepy.Cursor (Api.search, q=search_query, count = 100, lang = 'en', tweet_mode= 'extended').items(limit)\n",
        "    for tweet in tweets:\n",
        "        Crime_Hotspots.append([tweet.id, \n",
        "        tweet.user.screen_name, \n",
        "        tweet.full_text,        \n",
        "        tweet.favorite_count,  \n",
        "        tweet.retweet_count,    \n",
        "        tweet.user.location,   \n",
        "        tweet.created_at])    \n",
        "        #print(tweet)\n",
        "        \n",
        "get_tweets(search_query, 100000)  \n",
        "\n",
        "#Assign names to each column and print the df\n",
        "CrimeTweets = pd.DataFrame(Crime_Hotspots, columns = ['User_Id','Username', 'Tweet', 'No. of Likes', 'No. of Retweets', 'Location', 'Date'])\n",
        "print(CrimeTweets)"
      ],
      "metadata": {
        "id": "bsSXXZig6y5Q",
        "colab": {
          "base_uri": "https://localhost:8080/"
        },
        "outputId": "b1279742-8fba-4085-a5c5-2f39193871f7"
      },
      "execution_count": null,
      "outputs": [
        {
          "output_type": "stream",
          "name": "stdout",
          "text": [
            "                User_Id        Username  \\\n",
            "0   1610756336517804032       social_ke   \n",
            "1   1610695765634039809         Kenyans   \n",
            "2   1610531787410923520     _makongolo_   \n",
            "3   1610522555529715712         Koplo__   \n",
            "4   1610177350263574529    Vinnelian254   \n",
            "5   1610157411817639936       social_ke   \n",
            "6   1610124740857073664       social_ke   \n",
            "7   1610064346213920770       social_ke   \n",
            "8   1610041596526923776         gchahal   \n",
            "9   1609956546359984128    Vinnelian254   \n",
            "10  1609608782186962945       social_ke   \n",
            "11  1609465320292642817       social_ke   \n",
            "12  1609127301236523010       KTNNewsKE   \n",
            "13  1608810342452281344      citytalks2   \n",
            "14  1608792561887371267       KTNNewsKE   \n",
            "15  1608717062842597376       KTNNewsKE   \n",
            "16  1608693156471521282   StandardKenya   \n",
            "17  1608231962463899649    Amy_S_K_Wong   \n",
            "18  1608008216100896768       social_ke   \n",
            "19  1607994613599723520    Vinnelian254   \n",
            "20  1607795319588134912  GhettoRadio895   \n",
            "21  1607764166663868416       social_ke   \n",
            "\n",
            "                                                Tweet  No. of Likes  \\\n",
            "0   Dida makes coalition with Saitoti to end NYS i...             0   \n",
            "1   This decision was reached after viewing CCTV f...            30   \n",
            "2   The new sheriff in Lake Victoria is the Kenya ...             5   \n",
            "3   The new sheriff in Lake Victoria is the Kenya ...            28   \n",
            "4   Kiriamiti PDF Books at ksh 50 per copy\\n(all 5...             3   \n",
            "5   Wetangula makes coalition with Moi to end chas...             0   \n",
            "6   Kagwe makes coalition with Pinto to end crime ...             0   \n",
            "7   Dida makes coalition with Bilad Kagia to end e...             0   \n",
            "8   JUST IN: #BNNKenya Reports. \\n\\nA series of in...            45   \n",
            "9   Kiriamiti PDF Books at ksh 50 per copy\\n(all 5...             5   \n",
            "10  Wetangula makes coalition with Pinto to end cr...             0   \n",
            "11  Orengo makes coalition with JM Kariuki to end ...             0   \n",
            "12  The High Court in Nairobi has declined to decl...            24   \n",
            "13  GSU, RDU deployed to deal with insecurity in N...             0   \n",
            "14  The High Court in Nairobi has declined to decl...            10   \n",
            "15  The High Court in Nairobi has declined to decl...            11   \n",
            "16  The High Court in Nairobi has declined to decl...            32   \n",
            "17  My linkedin searches from December 20 - Decemb...             0   \n",
            "18  Raila makes coalition with Biidden to end KPLC...             0   \n",
            "19  Kiriamiti PDF Books at ksh 50 per copy\\n(all 5...            14   \n",
            "20  CRIME KAWANGWARE MTAANI; BOYZ AMEPATIKANA NA G...             3   \n",
            "21  Joho makes coalition with Kenyatta to end crim...             0   \n",
            "\n",
            "    No. of Retweets                   Location                Date  \n",
            "0                 0                            2023-01-04 21:53:31  \n",
            "1                 2             Nairobi, Kenya 2023-01-04 17:52:50  \n",
            "2                 0                            2023-01-04 07:01:15  \n",
            "3                 4                    Nairobi 2023-01-04 06:24:33  \n",
            "4                 1                      Kenya 2023-01-03 07:32:50  \n",
            "5                 0                            2023-01-03 06:13:36  \n",
            "6                 0                            2023-01-03 04:03:47  \n",
            "7                 0                            2023-01-03 00:03:48  \n",
            "8                10  Hong Kong | Bay Area, USA 2023-01-02 22:33:24  \n",
            "9                 2                      Kenya 2023-01-02 16:55:26  \n",
            "10                0                            2023-01-01 17:53:33  \n",
            "11                0                            2023-01-01 08:23:29  \n",
            "12                3                      Kenya 2022-12-31 10:00:19  \n",
            "13                0               Nakuru Kenya 2022-12-30 13:00:50  \n",
            "14                1                      Kenya 2022-12-30 11:50:11  \n",
            "15                2                      Kenya 2022-12-30 06:50:10  \n",
            "16                8            Kenya | Nairobi 2022-12-30 05:15:11  \n",
            "17                0            The Netherlands 2022-12-28 22:42:34  \n",
            "18                0                            2022-12-28 07:53:28  \n",
            "19                2                      Kenya 2022-12-28 06:59:25  \n",
            "20                1            Nairobi, Kenya. 2022-12-27 17:47:30  \n",
            "21                0                            2022-12-27 15:43:42  \n"
          ]
        }
      ]
    },
    {
      "cell_type": "code",
      "source": [],
      "metadata": {
        "id": "7on168eIW3RK"
      },
      "execution_count": null,
      "outputs": []
    }
  ]
}